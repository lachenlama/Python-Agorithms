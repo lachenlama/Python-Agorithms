{
 "cells": [
  {
   "cell_type": "markdown",
   "metadata": {},
   "source": [
    "# Linear Search Algo\n",
    "* The list need not be sorted.\n",
    "### Steps:\n",
    "* Iterate through each and every element of the list from the first element until the target element.\n",
    "* Time consuming if the data, array or list is lengthy.\n"
   ]
  },
  {
   "cell_type": "code",
   "execution_count": 11,
   "metadata": {},
   "outputs": [
    {
     "name": "stdout",
     "output_type": "stream",
     "text": [
      "The index value of the target number is,  4\n"
     ]
    }
   ],
   "source": [
    "#Linear Search\n",
    "def search(data, target):\n",
    "    for i in range(len(data)):\n",
    "        if data[i] == target:\n",
    "            return i\n",
    "data = (1,2,3,4,5,6,7,8)\n",
    "target = 5\n",
    "print('The index value of the target number is, ',search(data, target))"
   ]
  },
  {
   "cell_type": "markdown",
   "metadata": {},
   "source": [
    "# Binary Search Algo\n",
    "\n",
    "* The list is to be sorted in order to use the algorithm.\n",
    "* The first element with index 0 is the lower bound and the last element with index len - 1 is the upper bound.\n",
    "### Steps:\n",
    "* Compare the value in the middle of the list to the target value that we want.\n",
    "* If they are equal, then we have found the target value we were looking for.\n",
    "* ****************************************************************************\n",
    "* If they are not equal, we check if the target value is greater or less than the current middle element of the list.\n",
    "* #### If the target value is less than that element, the mid value is the new upper bound of the data or list. i.e we do not take the elements greater or placed after the mid value. Basically, we detele it.\n",
    "* #### If the taget value is greater than that element, the mid value is the new lower bound of the data or list. We do not take the elements lesser or placed before the mid value.\n",
    "* ****************************************************************************\n",
    "* We repeat these steps untill we find our target value. If we don't find it then the target value is not present in the list."
   ]
  },
  {
   "cell_type": "code",
   "execution_count": 13,
   "metadata": {},
   "outputs": [
    {
     "name": "stdout",
     "output_type": "stream",
     "text": [
      "The index value of the target number is,  19\n"
     ]
    }
   ],
   "source": [
    "# Iterative Binary Search\n",
    "def search(data, target):\n",
    "    lower_b = 0                # lower bound or the lowest index of the arr\n",
    "    upper_b = len(data) - 1    # Upper bound or the upper index of the arr\n",
    "    \n",
    "    while lower_b <= upper_b:  #lower bound has to be smaller than upper bound\n",
    "        mid = (lower_b + upper_b) // 2\n",
    "        if data[mid] == target:\n",
    "            return mid\n",
    "        elif data[mid] > target:\n",
    "            upper_b = data[mid] - 1\n",
    "        elif data[mid] < target:\n",
    "            lower_b = data[mid] + 1\n",
    "    return None\n",
    "data = [1,2,3,4,5,6,7,8,9,10,11,12,13,14,15,16,17,18,19,20,21,22]\n",
    "target = 20\n",
    "print('The index value of the target number is, ',search(data, target))"
   ]
  },
  {
   "cell_type": "code",
   "execution_count": 19,
   "metadata": {},
   "outputs": [
    {
     "name": "stdout",
     "output_type": "stream",
     "text": [
      "The index value of the target number is,  19\n"
     ]
    }
   ],
   "source": [
    "# Recursive Binary Search\n",
    "\n",
    "def search(data, lower_b, upper_b, target):\n",
    "    if upper_b >= lower_b:\n",
    "        mid = (lower_b + (upper_b - 1)) // 2\n",
    "        if data[mid] == target:\n",
    "            return mid\n",
    "        elif data[mid] < target:\n",
    "            return search(data, mid + 1, upper_b, target)\n",
    "        elif data[mid] > target:\n",
    "            return search(data, lower_b, mid - 1, target)\n",
    "    return -1\n",
    "data = [1,2,3,4,5,6,7,8,9,10,11,12,13,14,15,16,17,18,19,20,21,22]\n",
    "target = 20\n",
    "result = search(data, 0, len(data) -1, target)\n",
    "print('The index value of the target number is, ',result)"
   ]
  },
  {
   "cell_type": "code",
   "execution_count": null,
   "metadata": {},
   "outputs": [],
   "source": []
  },
  {
   "cell_type": "markdown",
   "metadata": {},
   "source": [
    "# Bubble Sort\n",
    "* Simplest sorting algorithm.\n",
    "* Repeated swapping with the adjacent element if they are present in the wrong order.\n"
   ]
  },
  {
   "cell_type": "code",
   "execution_count": 8,
   "metadata": {},
   "outputs": [
    {
     "name": "stdout",
     "output_type": "stream",
     "text": [
      "[1, 2, 3, 4, 5, 8]\n"
     ]
    }
   ],
   "source": [
    "#Bubble Sort\n",
    "def bubbleSort(data):\n",
    "    indexing_length = len(data) - 1\n",
    "    sorted_data = False\n",
    "    \n",
    "    while not sorted_data:\n",
    "        sorted_data = True\n",
    "        for i in range(0, indexing_length):\n",
    "            if data[i] > data[i+1]:\n",
    "                sorted_data = False\n",
    "                data[i], data[i+1] = data[i+1], data[i]\n",
    "    return data\n",
    "data = [8,5,2,1,3,4]\n",
    "print(bubbleSort(data))"
   ]
  },
  {
   "cell_type": "code",
   "execution_count": 9,
   "metadata": {},
   "outputs": [
    {
     "name": "stdout",
     "output_type": "stream",
     "text": [
      "[1, 2, 3, 4, 5, 8]\n"
     ]
    }
   ],
   "source": [
    "# Bubble Sort\n",
    "def bubblesort(data):\n",
    "    for i in range(len(data)-1, 0, -1):  #Range starts from the last element to the first element i.e decending order therefore the -1 because we are following the decending order.\n",
    "        for j in range(i):               #After 1st iteration one value will be fixed therefore range(i) \n",
    "            if data[j] > data[j+1]:      #\n",
    "                temp = data[j]\n",
    "                data[j] = data[j+1]\n",
    "                data[j+1]=temp\n",
    "\n",
    "data = [8,5,2,1,3,4]\n",
    "bubblesort(data)\n",
    "print(data)"
   ]
  },
  {
   "cell_type": "code",
   "execution_count": null,
   "metadata": {},
   "outputs": [],
   "source": []
  }
 ],
 "metadata": {
  "kernelspec": {
   "display_name": "Python 3",
   "language": "python",
   "name": "python3"
  },
  "language_info": {
   "codemirror_mode": {
    "name": "ipython",
    "version": 3
   },
   "file_extension": ".py",
   "mimetype": "text/x-python",
   "name": "python",
   "nbconvert_exporter": "python",
   "pygments_lexer": "ipython3",
   "version": "3.9.0"
  }
 },
 "nbformat": 4,
 "nbformat_minor": 4
}
